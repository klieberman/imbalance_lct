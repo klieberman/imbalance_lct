{
 "cells": [
  {
   "cell_type": "code",
   "execution_count": 2,
   "metadata": {},
   "outputs": [],
   "source": [
    "import tensorflow as tf\n",
    "import os\n",
    "import os.path as osp\n",
    "import pandas as pd\n",
    "import numpy as np\n",
    "import shutil"
   ]
  },
  {
   "cell_type": "code",
   "execution_count": 3,
   "metadata": {},
   "outputs": [
    {
     "data": {
      "text/plain": [
       "'\\nSplit dogs-vs-cats (PetFinder) dataset into train and validation set. Choose 1k images from cat and dog and move to validation set\\n'"
      ]
     },
     "execution_count": 3,
     "metadata": {},
     "output_type": "execute_result"
    }
   ],
   "source": [
    "'''\n",
    "Split dogs-vs-cats (PetFinder) dataset into train and validation set. Choose 1k images from cat and dog and move to validation set\n",
    "'''\n",
    "for class_name in ['dog', 'cat']:\n",
    "    val_indices = np.random.choice(range(12499), 1000, replace=False)\n",
    "    for idx in val_indices:\n",
    "        shutil.move(f\"/usr/xtmp/vision/datasets/dogs-vs-cats/train/{class_name}/{class_name}.{idx}.jpg\", f\"/usr/xtmp/vision/datasets/dogs-vs-cats/val/{class_name}/{class_name}.{idx}.jpg\")\n"
   ]
  },
  {
   "cell_type": "code",
   "execution_count": 4,
   "metadata": {},
   "outputs": [
    {
     "name": "stderr",
     "output_type": "stream",
     "text": [
      "2023-12-05 18:07:42.317093: I tensorflow/core/common_runtime/process_util.cc:146] Creating new thread pool with default inter op setting: 2. Tune using inter_op_parallelism_threads for best performance.\n",
      "2023-12-05 18:07:42.419624: I tensorflow/core/common_runtime/executor.cc:1197] [/device:CPU:0] (DEBUG INFO) Executor start aborting (this does not indicate an error and you can ignore this message): INVALID_ARGUMENT: You must feed a value for placeholder tensor 'Placeholder/_0' with dtype string and shape [1]\n",
      "\t [[{{node Placeholder/_0}}]]\n",
      "2023-12-05 18:07:44.293994: I tensorflow/core/common_runtime/executor.cc:1197] [/device:CPU:0] (DEBUG INFO) Executor start aborting (this does not indicate an error and you can ignore this message): INVALID_ARGUMENT: You must feed a value for placeholder tensor 'Placeholder/_0' with dtype string and shape [1]\n",
      "\t [[{{node Placeholder/_0}}]]\n",
      "2023-12-05 18:07:46.521154: I tensorflow/core/common_runtime/executor.cc:1197] [/device:CPU:0] (DEBUG INFO) Executor start aborting (this does not indicate an error and you can ignore this message): INVALID_ARGUMENT: You must feed a value for placeholder tensor 'Placeholder/_0' with dtype string and shape [1]\n",
      "\t [[{{node Placeholder/_0}}]]\n",
      "2023-12-05 18:07:48.572601: I tensorflow/core/common_runtime/executor.cc:1197] [/device:CPU:0] (DEBUG INFO) Executor start aborting (this does not indicate an error and you can ignore this message): INVALID_ARGUMENT: You must feed a value for placeholder tensor 'Placeholder/_0' with dtype string and shape [1]\n",
      "\t [[{{node Placeholder/_0}}]]\n",
      "2023-12-05 18:07:51.149279: I tensorflow/core/common_runtime/executor.cc:1197] [/device:CPU:0] (DEBUG INFO) Executor start aborting (this does not indicate an error and you can ignore this message): INVALID_ARGUMENT: You must feed a value for placeholder tensor 'Placeholder/_0' with dtype string and shape [1]\n",
      "\t [[{{node Placeholder/_0}}]]\n",
      "2023-12-05 18:07:53.184090: I tensorflow/core/common_runtime/executor.cc:1197] [/device:CPU:0] (DEBUG INFO) Executor start aborting (this does not indicate an error and you can ignore this message): INVALID_ARGUMENT: You must feed a value for placeholder tensor 'Placeholder/_0' with dtype string and shape [1]\n",
      "\t [[{{node Placeholder/_0}}]]\n",
      "2023-12-05 18:07:55.232217: I tensorflow/core/common_runtime/executor.cc:1197] [/device:CPU:0] (DEBUG INFO) Executor start aborting (this does not indicate an error and you can ignore this message): INVALID_ARGUMENT: You must feed a value for placeholder tensor 'Placeholder/_0' with dtype string and shape [1]\n",
      "\t [[{{node Placeholder/_0}}]]\n",
      "2023-12-05 18:07:57.314501: I tensorflow/core/common_runtime/executor.cc:1197] [/device:CPU:0] (DEBUG INFO) Executor start aborting (this does not indicate an error and you can ignore this message): INVALID_ARGUMENT: You must feed a value for placeholder tensor 'Placeholder/_0' with dtype string and shape [1]\n",
      "\t [[{{node Placeholder/_0}}]]\n",
      "2023-12-05 18:07:59.652231: I tensorflow/core/common_runtime/executor.cc:1197] [/device:CPU:0] (DEBUG INFO) Executor start aborting (this does not indicate an error and you can ignore this message): INVALID_ARGUMENT: You must feed a value for placeholder tensor 'Placeholder/_0' with dtype string and shape [1]\n",
      "\t [[{{node Placeholder/_0}}]]\n",
      "2023-12-05 18:08:01.893958: I tensorflow/core/common_runtime/executor.cc:1197] [/device:CPU:0] (DEBUG INFO) Executor start aborting (this does not indicate an error and you can ignore this message): INVALID_ARGUMENT: You must feed a value for placeholder tensor 'Placeholder/_0' with dtype string and shape [1]\n",
      "\t [[{{node Placeholder/_0}}]]\n",
      "2023-12-05 18:08:04.471169: I tensorflow/core/common_runtime/executor.cc:1197] [/device:CPU:0] (DEBUG INFO) Executor start aborting (this does not indicate an error and you can ignore this message): INVALID_ARGUMENT: You must feed a value for placeholder tensor 'Placeholder/_0' with dtype string and shape [1]\n",
      "\t [[{{node Placeholder/_0}}]]\n",
      "2023-12-05 18:08:06.549485: I tensorflow/core/common_runtime/executor.cc:1197] [/device:CPU:0] (DEBUG INFO) Executor start aborting (this does not indicate an error and you can ignore this message): INVALID_ARGUMENT: You must feed a value for placeholder tensor 'Placeholder/_0' with dtype string and shape [1]\n",
      "\t [[{{node Placeholder/_0}}]]\n",
      "2023-12-05 18:08:08.543631: I tensorflow/core/common_runtime/executor.cc:1197] [/device:CPU:0] (DEBUG INFO) Executor start aborting (this does not indicate an error and you can ignore this message): INVALID_ARGUMENT: You must feed a value for placeholder tensor 'Placeholder/_0' with dtype string and shape [1]\n",
      "\t [[{{node Placeholder/_0}}]]\n",
      "2023-12-05 18:08:10.608133: I tensorflow/core/common_runtime/executor.cc:1197] [/device:CPU:0] (DEBUG INFO) Executor start aborting (this does not indicate an error and you can ignore this message): INVALID_ARGUMENT: You must feed a value for placeholder tensor 'Placeholder/_0' with dtype string and shape [1]\n",
      "\t [[{{node Placeholder/_0}}]]\n",
      "2023-12-05 18:08:12.752915: I tensorflow/core/common_runtime/executor.cc:1197] [/device:CPU:0] (DEBUG INFO) Executor start aborting (this does not indicate an error and you can ignore this message): INVALID_ARGUMENT: You must feed a value for placeholder tensor 'Placeholder/_0' with dtype string and shape [1]\n",
      "\t [[{{node Placeholder/_0}}]]\n",
      "2023-12-05 18:08:14.968470: I tensorflow/core/common_runtime/executor.cc:1197] [/device:CPU:0] (DEBUG INFO) Executor start aborting (this does not indicate an error and you can ignore this message): INVALID_ARGUMENT: You must feed a value for placeholder tensor 'Placeholder/_0' with dtype string and shape [1]\n",
      "\t [[{{node Placeholder/_0}}]]\n"
     ]
    },
    {
     "name": "stdout",
     "output_type": "stream",
     "text": [
      "        image_name target tfrecord\n",
      "0     ISIC_3139230      0        0\n",
      "1     ISIC_1939931      0        0\n",
      "2     ISIC_8681290      0        0\n",
      "3     ISIC_5403296      0        0\n",
      "4     ISIC_5598875      0        0\n",
      "...            ...    ...      ...\n",
      "2056  ISIC_6364051      0       15\n",
      "2057  ISIC_4645138      0       15\n",
      "2058  ISIC_1626843      0       15\n",
      "2059  ISIC_6927363      0       15\n",
      "2060  ISIC_6553041      0       15\n",
      "\n",
      "[33126 rows x 3 columns]\n"
     ]
    }
   ],
   "source": [
    "'''\n",
    "Combine melanoma data from 2019 and 2020. Split dataset into train and validation set. \n",
    "Save images in folders corresponding to their classes (melanoma and no-melanoma)\n",
    "Use splitting method from https://github.com/mlfoundations/imagenet-applications-transfer/blob/main/datasets/melanoma.py\n",
    "'''\n",
    "\n",
    "# First need to add 'tfrecord' attribute to train.csv for the 2020 dataset.\n",
    "# This is included in the 2019 dataset and is needed to split the data.\n",
    "# Read in tfrecords and make a dataframe with the image_names, targets, and tfrecord values\n",
    "feature_description = {\n",
    "    'image_name': tf.io.FixedLenFeature([], tf.string),\n",
    "    'target': tf.io.FixedLenFeature([], tf.int64),\n",
    "}\n",
    "\n",
    "# Function to parse a single example\n",
    "def _parse_function(example_proto):\n",
    "    # Parse the input `tf.train.Example` protocol buffer\n",
    "    return tf.io.parse_single_example(example_proto, feature_description)\n",
    "\n",
    "tfrec_df = pd.DataFrame(columns=['image_name', 'target', 'tfrecord'])\n",
    "for i, tfrecord_path in enumerate([f'/usr/xtmp/vision/datasets/melanoma/other_2020_data/tfrecords/train{x:02d}-2071.tfrec' for x in range(15)] +\n",
    "                               [f'/usr/xtmp/vision/datasets/melanoma/other_2020_data/tfrecords/train15-2061.tfrec']):\n",
    "    assert osp.exists(tfrecord_path), f'{tfrecord_path} does not exist.'\n",
    "    # Create a TFRecordDataset\n",
    "    dataset = tf.data.TFRecordDataset(tfrecord_path)\n",
    "\n",
    "    parsed_dataset = dataset.map(_parse_function)\n",
    "    image_names = []\n",
    "    targets = []\n",
    "    for rec in parsed_dataset:\n",
    "        image_names.append(rec['image_name'].numpy().decode('utf-8'))\n",
    "        targets.append(rec['target'].numpy())\n",
    "\n",
    "    temp_df = pd.DataFrame({'image_name': image_names, 'target': targets, 'tfrecord': [i]*len(targets)})\n",
    "    tfrec_df = pd.concat([tfrec_df, temp_df])\n",
    "\n",
    "print(tfrec_df)"
   ]
  },
  {
   "cell_type": "code",
   "execution_count": 5,
   "metadata": {},
   "outputs": [
    {
     "name": "stdout",
     "output_type": "stream",
     "text": [
      "Index(['image_name', 'patient_id', 'sex', 'age_approx',\n",
      "       'anatom_site_general_challenge', 'diagnosis', 'benign_malignant',\n",
      "       'tfrecord', 'target'],\n",
      "      dtype='object')\n"
     ]
    }
   ],
   "source": [
    "'''\n",
    "Next merge train.csv with tfrec_df. Save a new version of train.csv with the tfrecord attribute\n",
    "'''\n",
    "train_df = pd.read_csv('/usr/xtmp/vision/datasets/melanoma/other_2020_data/train.csv')\n",
    "merged = train_df.merge(tfrec_df, on='image_name')\n",
    "assert np.all(merged['target_x'] == merged['target_y']), \"Targets don't match for all images\"\n",
    "merged['target'] = merged['target_x']\n",
    "merged = merged.drop(['target_x', 'target_y'], axis=1)\n",
    "print(merged.keys())\n",
    "merged.to_csv('/usr/xtmp/vision/datasets/melanoma/melanoma-2020/train.csv')"
   ]
  },
  {
   "cell_type": "code",
   "execution_count": 11,
   "metadata": {},
   "outputs": [
    {
     "name": "stdout",
     "output_type": "stream",
     "text": [
      "Full dataset: 25331, train: 20280, test: 5051, prop_val: 0.20\n",
      "Full split: 20280, no: 16652, mela: 3628, prop_mela: 0.18\n",
      "Full split: 5051, no: 4157, mela: 894, prop_mela: 0.18\n",
      "Full dataset: 33126, train: 24842, test: 8284, prop_val: 0.25\n",
      "Full split: 24842, no: 24399, mela: 443, prop_mela: 0.02\n",
      "Full split: 8284, no: 8143, mela: 141, prop_mela: 0.02\n"
     ]
    }
   ],
   "source": [
    "'''\n",
    "Split melanoma data into train/val and melanoma/no-melanoma\n",
    "Found val_folds using\n",
    "    folds = set(df['tfrecord'].values)\n",
    "    folds = [f for f in folds if f >= 0]\n",
    "    # Finding new splits each time you call MelanomaDataset, train and test could overlap\n",
    "    # Okay bc calling np.random.seed each time\n",
    "    train_splits = np.random.choice(folds, size=int(0.8*len(folds)), replace=False).tolist()\n",
    "    val_splits = [fold for fold in folds if fold not in train_splits]\n",
    "'''\n",
    "val_folds = {\n",
    "    '2020': [3, 6, 8, 9],\n",
    "    '2019': [0, 5, 12, 16, 21, 29]\n",
    "}\n",
    "\n",
    "for year in ['2019', '2020']:\n",
    "    df = pd.read_csv(f'/usr/xtmp/vision/datasets/melanoma/melanoma-{year}/train.csv')\n",
    "    train_df = df[~df['tfrecord'].isin(val_folds[year])]\n",
    "    val_df = df[df['tfrecord'].isin(val_folds[year])]\n",
    "    print(f'Full dataset: {len(df)}, train: {len(train_df)}, test: {len(val_df)}, prop_val: {len(val_df)/len(df):.2f}')\n",
    "    for split_name, df_split in zip(['train', 'val'], [train_df, val_df]):\n",
    "        no_df = df_split[df_split['target'] == 0]\n",
    "        mela_df = df_split[df_split['target'] == 1]\n",
    "        print(f'Full split: {len(df_split)}, no: {len(no_df)}, mela: {len(mela_df)}, prop_mela: {len(mela_df) / len(df_split):.2f}')\n",
    "\n",
    "        for class_name, class_df in zip(['melanoma', 'no-melanoma'], [mela_df, no_df]):\n",
    "            for i, row in class_df.iterrows():\n",
    "                image_name = row['image_name']\n",
    "                shutil.move(f'/usr/xtmp/vision/datasets/melanoma/melanoma-{year}/train/{image_name}.jpg', \n",
    "                            f'/usr/xtmp/vision/datasets/melanoma/{split_name}/{class_name}/{image_name}.jpg')"
   ]
  }
 ],
 "metadata": {
  "kernelspec": {
   "display_name": "imbalance",
   "language": "python",
   "name": "python3"
  },
  "language_info": {
   "codemirror_mode": {
    "name": "ipython",
    "version": 3
   },
   "file_extension": ".py",
   "mimetype": "text/x-python",
   "name": "python",
   "nbconvert_exporter": "python",
   "pygments_lexer": "ipython3",
   "version": "3.10.9"
  },
  "orig_nbformat": 4
 },
 "nbformat": 4,
 "nbformat_minor": 2
}
